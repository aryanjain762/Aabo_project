{
 "cells": [
  {
   "cell_type": "markdown",
   "metadata": {},
   "source": [
    "# Stress Level Prediction from Journal Entries\n",
    "This notebook implements a machine learning model to predict stress levels from journal entries."
   ]
  },
  {
   "cell_type": "code",
   "execution_count": 25,
   "metadata": {},
   "outputs": [],
   "source": [
    "import pandas as pd\n",
    "import re\n",
    "import numpy as np\n",
    "from sklearn.model_selection import train_test_split, cross_val_score\n",
    "from sklearn.feature_extraction.text import TfidfVectorizer\n",
    "from sklearn.linear_model import LogisticRegression\n",
    "from sklearn.metrics import classification_report, accuracy_score\n",
    "from sklearn.pipeline import Pipeline\n",
    "import joblib"
   ]
  },
  {
   "cell_type": "markdown",
   "metadata": {},
   "source": [
    "## Data Preparation\n",
    "Create a dataset of journal entries with their corresponding stress levels"
   ]
  },
  {
   "cell_type": "code",
   "execution_count": 26,
   "metadata": {},
   "outputs": [
    {
     "data": {
      "text/html": [
       "<div>\n",
       "<style scoped>\n",
       "    .dataframe tbody tr th:only-of-type {\n",
       "        vertical-align: middle;\n",
       "    }\n",
       "\n",
       "    .dataframe tbody tr th {\n",
       "        vertical-align: top;\n",
       "    }\n",
       "\n",
       "    .dataframe thead th {\n",
       "        text-align: right;\n",
       "    }\n",
       "</style>\n",
       "<table border=\"1\" class=\"dataframe\">\n",
       "  <thead>\n",
       "    <tr style=\"text-align: right;\">\n",
       "      <th></th>\n",
       "      <th>JournalEntry</th>\n",
       "      <th>StressLevel</th>\n",
       "    </tr>\n",
       "  </thead>\n",
       "  <tbody>\n",
       "    <tr>\n",
       "      <th>0</th>\n",
       "      <td>I am bit tired and okay. Sleep was okay.</td>\n",
       "      <td>Medium</td>\n",
       "    </tr>\n",
       "    <tr>\n",
       "      <th>1</th>\n",
       "      <td>My day has been restless and insomnia. Sleep h...</td>\n",
       "      <td>High</td>\n",
       "    </tr>\n",
       "    <tr>\n",
       "      <th>2</th>\n",
       "      <td>I'm feeling relaxed and happy and positive and...</td>\n",
       "      <td>Low</td>\n",
       "    </tr>\n",
       "    <tr>\n",
       "      <th>3</th>\n",
       "      <td>My day has been worried and sleepless and terr...</td>\n",
       "      <td>High</td>\n",
       "    </tr>\n",
       "    <tr>\n",
       "      <th>4</th>\n",
       "      <td>I'm feeling busy and handling it and managing ...</td>\n",
       "      <td>Medium</td>\n",
       "    </tr>\n",
       "  </tbody>\n",
       "</table>\n",
       "</div>"
      ],
      "text/plain": [
       "                                        JournalEntry StressLevel\n",
       "0           I am bit tired and okay. Sleep was okay.      Medium\n",
       "1  My day has been restless and insomnia. Sleep h...        High\n",
       "2  I'm feeling relaxed and happy and positive and...         Low\n",
       "3  My day has been worried and sleepless and terr...        High\n",
       "4  I'm feeling busy and handling it and managing ...      Medium"
      ]
     },
     "execution_count": 26,
     "metadata": {},
     "output_type": "execute_result"
    }
   ],
   "source": [
    "def generate_synthetic_data(n_samples=100):\n",
    "    # Key phrases for each stress level\n",
    "    high_stress_phrases = [\n",
    "        \"couldn't\", \"exhausted\", \"anxious\", \"overwhelming\", \"stressed\", \n",
    "        \"sleepless\", \"racing mind\", \"too much\", \"terrible\", \"on edge\",\n",
    "        \"worried\", \"panic\", \"insomnia\", \"nightmare\", \"restless\"\n",
    "    ]\n",
    "    \n",
    "    low_stress_phrases = [\n",
    "        \"great workout\", \"positive\", \"decent sleep\", \"peaceful\", \"relaxed\", \n",
    "        \"calm\", \"refreshed\", \"full 8 hours\", \"enjoyed\", \"good rest\",\n",
    "        \"happy\", \"energetic\", \"content\", \"well-rested\", \"mindful\"\n",
    "    ]\n",
    "    \n",
    "    medium_stress_phrases = [\n",
    "        \"bit tired\", \"managing okay\", \"busy\", \"nothing too stressful\", \n",
    "        \"a bit restless\", \"somewhat tired\", \"slightly anxious\", \"okay\",\n",
    "        \"could be better\", \"handling it\", \"neutral\", \"moderate\", \"coping\"\n",
    "    ]\n",
    "    \n",
    "    journal_entries = []\n",
    "    stress_levels = []\n",
    "    \n",
    "    for _ in range(n_samples):\n",
    "        stress_class = np.random.choice(['High', 'Medium', 'Low'])\n",
    "        \n",
    "        # Generate a synthetic journal entry based on the stress level\n",
    "        if stress_class == 'High':\n",
    "            phrases = np.random.choice(high_stress_phrases, size=np.random.randint(2, 5), replace=False)\n",
    "            fillers = [\"I'm feeling\", \"Today was\", \"I am\", \"My day has been\", \"I've been\"]\n",
    "            entry = f\"{np.random.choice(fillers)} {' and '.join(phrases)}. Sleep has been poor.\"\n",
    "        \n",
    "        elif stress_class == 'Low':\n",
    "            phrases = np.random.choice(low_stress_phrases, size=np.random.randint(2, 5), replace=False)\n",
    "            fillers = [\"I'm feeling\", \"Today was\", \"I had\", \"Enjoyed my day\", \"I've been\"]\n",
    "            entry = f\"{np.random.choice(fillers)} {' and '.join(phrases)}. Slept well.\"\n",
    "        \n",
    "        else:  # Medium\n",
    "            phrases = np.random.choice(medium_stress_phrases, size=np.random.randint(2, 5), replace=False)\n",
    "            fillers = [\"I'm feeling\", \"Today was\", \"I am\", \"My day has been\", \"It's been\"]\n",
    "            entry = f\"{np.random.choice(fillers)} {' and '.join(phrases)}. Sleep was okay.\"\n",
    "        \n",
    "        journal_entries.append(entry)\n",
    "        stress_levels.append(stress_class)\n",
    "    \n",
    "    # Include the original examples\n",
    "    original_data = [\n",
    "        [\"I couldn't sleep well last night. Feeling exhausted and anxious. Work is overwhelming.\", \"High\"],\n",
    "        [\"Had a great workout today! Feeling pumped and positive. Got decent sleep too.\", \"Low\"],\n",
    "        [\"Didn't get much rest. Kids were up all night. I'm a bit tired but managing okay.\", \"Medium\"],\n",
    "        [\"Feeling really stressed about upcoming deadlines. My sleep was all over the place this week.\", \"High\"],\n",
    "        [\"Had a peaceful day. Managed to catch up on sleep. Feeling relaxed.\", \"Low\"],\n",
    "        [\"I'm okay, just a bit tired. Work was busy but nothing too stressful.\", \"Medium\"],\n",
    "        [\"Another sleepless night. My mind won't stop racing. Everything feels too much right now.\", \"High\"],\n",
    "        [\"Enjoyed a walk in the park. Got a full 8 hours of sleep. Feeling calm and refreshed.\", \"Low\"],\n",
    "        [\"Busy day. Got some sleep but still a bit restless. Managing stress okay.\", \"Medium\"],\n",
    "        [\"Too many things to handle today. My sleep has been terrible, and I'm feeling on edge.\", \"High\"]\n",
    "    ]\n",
    "    \n",
    "    for entry, level in original_data:\n",
    "        journal_entries.append(entry)\n",
    "        stress_levels.append(level)\n",
    "    \n",
    "    return pd.DataFrame({'JournalEntry': journal_entries, 'StressLevel': stress_levels})\n",
    "\n",
    "# Generate dataset with 100 synthetic samples + 10 original samples\n",
    "df = generate_synthetic_data(100)\n",
    "df.head()\n"
   ]
  },
  {
   "cell_type": "markdown",
   "metadata": {},
   "source": [
    "## Text Preprocessing\n",
    "Define and apply text preprocessing function"
   ]
  },
  {
   "cell_type": "code",
   "execution_count": 27,
   "metadata": {},
   "outputs": [
    {
     "data": {
      "text/html": [
       "<div>\n",
       "<style scoped>\n",
       "    .dataframe tbody tr th:only-of-type {\n",
       "        vertical-align: middle;\n",
       "    }\n",
       "\n",
       "    .dataframe tbody tr th {\n",
       "        vertical-align: top;\n",
       "    }\n",
       "\n",
       "    .dataframe thead th {\n",
       "        text-align: right;\n",
       "    }\n",
       "</style>\n",
       "<table border=\"1\" class=\"dataframe\">\n",
       "  <thead>\n",
       "    <tr style=\"text-align: right;\">\n",
       "      <th></th>\n",
       "      <th>JournalEntry</th>\n",
       "      <th>StressLevel</th>\n",
       "      <th>CleanedText</th>\n",
       "    </tr>\n",
       "  </thead>\n",
       "  <tbody>\n",
       "    <tr>\n",
       "      <th>0</th>\n",
       "      <td>I am bit tired and okay. Sleep was okay.</td>\n",
       "      <td>Medium</td>\n",
       "      <td>i am bit tired and okay sleep was okay</td>\n",
       "    </tr>\n",
       "    <tr>\n",
       "      <th>1</th>\n",
       "      <td>My day has been restless and insomnia. Sleep h...</td>\n",
       "      <td>High</td>\n",
       "      <td>my day has been restless and insomnia sleep ha...</td>\n",
       "    </tr>\n",
       "    <tr>\n",
       "      <th>2</th>\n",
       "      <td>I'm feeling relaxed and happy and positive and...</td>\n",
       "      <td>Low</td>\n",
       "      <td>i m feeling relaxed and happy and positive and...</td>\n",
       "    </tr>\n",
       "    <tr>\n",
       "      <th>3</th>\n",
       "      <td>My day has been worried and sleepless and terr...</td>\n",
       "      <td>High</td>\n",
       "      <td>my day has been worried and sleepless and terr...</td>\n",
       "    </tr>\n",
       "    <tr>\n",
       "      <th>4</th>\n",
       "      <td>I'm feeling busy and handling it and managing ...</td>\n",
       "      <td>Medium</td>\n",
       "      <td>i m feeling busy and handling it and managing ...</td>\n",
       "    </tr>\n",
       "  </tbody>\n",
       "</table>\n",
       "</div>"
      ],
      "text/plain": [
       "                                        JournalEntry StressLevel  \\\n",
       "0           I am bit tired and okay. Sleep was okay.      Medium   \n",
       "1  My day has been restless and insomnia. Sleep h...        High   \n",
       "2  I'm feeling relaxed and happy and positive and...         Low   \n",
       "3  My day has been worried and sleepless and terr...        High   \n",
       "4  I'm feeling busy and handling it and managing ...      Medium   \n",
       "\n",
       "                                         CleanedText  \n",
       "0             i am bit tired and okay sleep was okay  \n",
       "1  my day has been restless and insomnia sleep ha...  \n",
       "2  i m feeling relaxed and happy and positive and...  \n",
       "3  my day has been worried and sleepless and terr...  \n",
       "4  i m feeling busy and handling it and managing ...  "
      ]
     },
     "execution_count": 27,
     "metadata": {},
     "output_type": "execute_result"
    }
   ],
   "source": [
    "def preprocess_text(text):\n",
    "    text = text.lower()\n",
    "    text = re.sub(r'[^\\w\\s]', ' ', text)  \n",
    "    text = re.sub(r'\\d+', '', text)  \n",
    "    text = re.sub(r'\\s+', ' ', text).strip()  # Remove extra spaces\n",
    "    return text\n",
    "\n",
    "df['CleanedText'] = df['JournalEntry'].apply(preprocess_text)\n",
    "df.head()"
   ]
  },
  {
   "cell_type": "markdown",
   "metadata": {},
   "source": [
    "## Model Training Setup\n",
    "Split data and create the pipeline"
   ]
  },
  {
   "cell_type": "code",
   "execution_count": 28,
   "metadata": {},
   "outputs": [],
   "source": [
    "X_train, X_test, y_train, y_test = train_test_split(\n",
    "    df['CleanedText'], df['StressLevel'], test_size=0.2, random_state=42, stratify=df['StressLevel']\n",
    ")\n",
    "\n",
    "# Create a pipeline with fewer features and a simpler model\n",
    "pipeline = Pipeline([\n",
    "    ('tfidf', TfidfVectorizer(max_features=100, ngram_range=(1, 2))),\n",
    "    ('classifier', LogisticRegression(max_iter=1000, random_state=42))\n",
    "])"
   ]
  },
  {
   "cell_type": "markdown",
   "metadata": {},
   "source": [
    "## Model Training and Evaluation"
   ]
  },
  {
   "cell_type": "code",
   "execution_count": 29,
   "metadata": {},
   "outputs": [
    {
     "name": "stdout",
     "output_type": "stream",
     "text": [
      "Cross-validation accuracy: 0.9882 ± 0.0235\n",
      "Test accuracy: 0.9545\n",
      "\n",
      "Classification Report:\n",
      "               precision    recall  f1-score   support\n",
      "\n",
      "        High       1.00      0.83      0.91         6\n",
      "         Low       0.90      1.00      0.95         9\n",
      "      Medium       1.00      1.00      1.00         7\n",
      "\n",
      "    accuracy                           0.95        22\n",
      "   macro avg       0.97      0.94      0.95        22\n",
      "weighted avg       0.96      0.95      0.95        22\n",
      "\n"
     ]
    }
   ],
   "source": [
    "pipeline.fit(X_train, y_train)\n",
    "\n",
    "# Evaluate with cross-validation\n",
    "cv_scores = cross_val_score(pipeline, X_train, y_train, cv=5)\n",
    "print(f\"Cross-validation accuracy: {cv_scores.mean():.4f} ± {cv_scores.std():.4f}\")\n",
    "\n",
    "# Evaluate on test set\n",
    "y_pred = pipeline.predict(X_test)\n",
    "print(f\"Test accuracy: {accuracy_score(y_test, y_pred):.4f}\")\n",
    "print(\"\\nClassification Report:\\n\", classification_report(y_test, y_pred))"
   ]
  },
  {
   "cell_type": "markdown",
   "metadata": {},
   "source": [
    "## Save Model"
   ]
  },
  {
   "cell_type": "code",
   "execution_count": 30,
   "metadata": {},
   "outputs": [
    {
     "name": "stdout",
     "output_type": "stream",
     "text": [
      "Model saved as 'stress_predictor_improved.joblib'\n"
     ]
    }
   ],
   "source": [
    "joblib.dump(pipeline, 'stress_predictor_improved.joblib')\n",
    "print(\"Model saved as 'stress_predictor_improved.joblib'\")"
   ]
  },
  {
   "cell_type": "markdown",
   "metadata": {},
   "source": [
    "## Test Predictions"
   ]
  },
  {
   "cell_type": "code",
   "execution_count": 31,
   "metadata": {},
   "outputs": [],
   "source": [
    "def predict_stress_level(text, model=pipeline):\n",
    "    cleaned_text = preprocess_text(text)\n",
    "    prediction = model.predict([cleaned_text])[0]\n",
    "    \n",
    "    # Get prediction probabilities for more insights\n",
    "    proba = model.predict_proba([cleaned_text])[0]\n",
    "    classes = model.classes_\n",
    "    \n",
    "    # Create a dictionary of class:probability pairs\n",
    "    confidence = {class_name: f\"{prob:.2f}\" for class_name, prob in zip(classes, proba)}\n",
    "    \n",
    "    return prediction, confidence"
   ]
  },
  {
   "cell_type": "code",
   "execution_count": 32,
   "metadata": {},
   "outputs": [
    {
     "name": "stdout",
     "output_type": "stream",
     "text": [
      "Stress Level Predictor\n",
      "--------------------------------------------------\n",
      "Enter your journal entry (press Enter twice to finish):\n",
      "\n",
      "Your Entry: decent sleep\n",
      "Predicted Stress Level: Low\n",
      "Confidence scores: {'High': '0.19', 'Low': '0.61', 'Medium': '0.20'}\n"
     ]
    }
   ],
   "source": [
    "print(\"Stress Level Predictor\")\n",
    "print(\"-\" * 50)\n",
    "print(\"Enter your journal entry (press Enter twice to finish):\")\n",
    "\n",
    "# Collect multi-line input\n",
    "lines = []\n",
    "while True:\n",
    "    line = input()\n",
    "    if line:\n",
    "        lines.append(line)\n",
    "    else:\n",
    "        break\n",
    "\n",
    "journal_entry = \" \".join(lines)\n",
    "\n",
    "if journal_entry.strip():\n",
    "    prediction, confidence = predict_stress_level(journal_entry)\n",
    "    print(\"\\nYour Entry:\", journal_entry)\n",
    "    print(\"Predicted Stress Level:\", prediction)\n",
    "    print(\"Confidence scores:\", confidence)\n",
    "else:\n",
    "    print(\"No input provided.\")"
   ]
  }
 ],
 "metadata": {
  "kernelspec": {
   "display_name": "base",
   "language": "python",
   "name": "python3"
  },
  "language_info": {
   "codemirror_mode": {
    "name": "ipython",
    "version": 3
   },
   "file_extension": ".py",
   "mimetype": "text/x-python",
   "name": "python",
   "nbconvert_exporter": "python",
   "pygments_lexer": "ipython3",
   "version": "3.11.7"
  }
 },
 "nbformat": 4,
 "nbformat_minor": 4
}
