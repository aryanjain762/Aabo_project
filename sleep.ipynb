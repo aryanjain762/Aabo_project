{
 "cells": [
  {
   "cell_type": "markdown",
   "metadata": {},
   "source": [
    "# Sleep Duration Prediction Model\n",
    "This notebook predicts sleep duration based on daily activity metrics."
   ]
  },
  {
   "cell_type": "code",
   "execution_count": 13,
   "metadata": {},
   "outputs": [],
   "source": [
    "import pandas as pd\n",
    "import numpy as np\n",
    "from sklearn.preprocessing import PolynomialFeatures, StandardScaler\n",
    "from sklearn.linear_model import Ridge\n",
    "from sklearn.pipeline import Pipeline"
   ]
  },
  {
   "cell_type": "code",
   "execution_count": 14,
   "metadata": {},
   "outputs": [
    {
     "data": {
      "text/html": [
       "<div>\n",
       "<style scoped>\n",
       "    .dataframe tbody tr th:only-of-type {\n",
       "        vertical-align: middle;\n",
       "    }\n",
       "\n",
       "    .dataframe tbody tr th {\n",
       "        vertical-align: top;\n",
       "    }\n",
       "\n",
       "    .dataframe thead th {\n",
       "        text-align: right;\n",
       "    }\n",
       "</style>\n",
       "<table border=\"1\" class=\"dataframe\">\n",
       "  <thead>\n",
       "    <tr style=\"text-align: right;\">\n",
       "      <th></th>\n",
       "      <th>customer_id</th>\n",
       "      <th>date</th>\n",
       "      <th>sleep_duration</th>\n",
       "      <th>steps</th>\n",
       "      <th>resting_heart_rate</th>\n",
       "    </tr>\n",
       "  </thead>\n",
       "  <tbody>\n",
       "    <tr>\n",
       "      <th>0</th>\n",
       "      <td>CUST1</td>\n",
       "      <td>24/02/25</td>\n",
       "      <td>570</td>\n",
       "      <td>10191</td>\n",
       "      <td>78</td>\n",
       "    </tr>\n",
       "    <tr>\n",
       "      <th>1</th>\n",
       "      <td>CUST1</td>\n",
       "      <td>23/02/25</td>\n",
       "      <td>421</td>\n",
       "      <td>5466</td>\n",
       "      <td>72</td>\n",
       "    </tr>\n",
       "    <tr>\n",
       "      <th>2</th>\n",
       "      <td>CUST1</td>\n",
       "      <td>22/02/25</td>\n",
       "      <td>387</td>\n",
       "      <td>13322</td>\n",
       "      <td>71</td>\n",
       "    </tr>\n",
       "    <tr>\n",
       "      <th>3</th>\n",
       "      <td>CUST1</td>\n",
       "      <td>21/02/25</td>\n",
       "      <td>593</td>\n",
       "      <td>7433</td>\n",
       "      <td>77</td>\n",
       "    </tr>\n",
       "    <tr>\n",
       "      <th>4</th>\n",
       "      <td>CUST1</td>\n",
       "      <td>20/02/25</td>\n",
       "      <td>321</td>\n",
       "      <td>11396</td>\n",
       "      <td>61</td>\n",
       "    </tr>\n",
       "  </tbody>\n",
       "</table>\n",
       "</div>"
      ],
      "text/plain": [
       "  customer_id      date  sleep_duration  steps  resting_heart_rate\n",
       "0       CUST1  24/02/25             570  10191                  78\n",
       "1       CUST1  23/02/25             421   5466                  72\n",
       "2       CUST1  22/02/25             387  13322                  71\n",
       "3       CUST1  21/02/25             593   7433                  77\n",
       "4       CUST1  20/02/25             321  11396                  61"
      ]
     },
     "execution_count": 14,
     "metadata": {},
     "output_type": "execute_result"
    }
   ],
   "source": [
    "data = pd.DataFrame({\n",
    "    'customer_id': ['CUST1', 'CUST1', 'CUST1', 'CUST1', 'CUST1', 'CUST1', \n",
    "                   'CUST2', 'CUST2', 'CUST2', 'CUST2', 'CUST2', 'CUST2',\n",
    "                   'CUST3', 'CUST3', 'CUST3'],\n",
    "    'date': ['24/02/25', '23/02/25', '22/02/25', '21/02/25', '20/02/25', '19/02/25',\n",
    "            '24/02/25', '23/02/25', '22/02/25', '21/02/25', '20/02/25', '19/02/25',\n",
    "            '12/02/25', '11/02/25', '10/02/25'],\n",
    "    'sleep_duration': [570, 421, 387, 593, 321, 358,\n",
    "                      350, 434, 541, 391, 563, 349,\n",
    "                      353, 517, 569],\n",
    "    'steps': [10191, 5466, 13322, 7433, 11396, 7558,\n",
    "             6899, 10393, 12513, 10486, 13226, 8943,\n",
    "             8843, 10675, 12629],\n",
    "    'resting_heart_rate': [78, 72, 71, 77, 61, 59,\n",
    "                          72, 53, 70, 77, 63, 53,\n",
    "                          71, 51, 72]\n",
    "})\n",
    "\n",
    "\n",
    "data.head()"
   ]
  },
  {
   "cell_type": "code",
   "execution_count": 15,
   "metadata": {},
   "outputs": [],
   "source": [
    "def create_customer_history(data):\n",
    "    \"\"\"Create features from customer history\"\"\"\n",
    "    history = data.copy()\n",
    "    \n",
    "    # Convert date to datetime\n",
    "    history['date'] = pd.to_datetime(history['date'], format='%d/%m/%y')\n",
    "    \n",
    "    # Extract day of week features\n",
    "    history['day_of_week'] = history['date'].dt.dayofweek\n",
    "    history['is_weekend'] = history['day_of_week'].apply(lambda x: 1 if x >= 5 else 0)\n",
    "    \n",
    "    # Previous day metrics\n",
    "    history['prev_sleep'] = history.groupby('customer_id')['sleep_duration'].shift(1)\n",
    "    history['prev_steps'] = history.groupby('customer_id')['steps'].shift(1)\n",
    "    history['prev_heart_rate'] = history.groupby('customer_id')['resting_heart_rate'].shift(1)\n",
    "    \n",
    "    # Add rolling statistics and other features\n",
    "    for col in ['sleep_duration', 'steps', 'resting_heart_rate']:\n",
    "        col_prefix = col.split('_')[0]\n",
    "        history[f'{col_prefix}_roll_mean_3d'] = history.groupby('customer_id')[col].transform(\n",
    "            lambda x: x.rolling(window=3, min_periods=1).mean().shift(1)\n",
    "        )\n",
    "        history[f'{col_prefix}_roll_std_3d'] = history.groupby('customer_id')[col].transform(\n",
    "            lambda x: x.rolling(window=3, min_periods=1).std().shift(1).fillna(0)\n",
    "        )\n",
    "        history[f'{col_prefix}_change'] = history.groupby('customer_id')[col].diff().fillna(0)\n",
    "    \n",
    "    # Interaction features\n",
    "    history['steps_per_hr'] = history['steps'] / history['resting_heart_rate'].replace(0, 1)\n",
    "    \n",
    "    return history"
   ]
  },
  {
   "cell_type": "code",
   "execution_count": 16,
   "metadata": {},
   "outputs": [],
   "source": [
    "def train_sleep_prediction_model():\n",
    "    \"\"\"Train the sleep prediction model\"\"\"\n",
    "    \n",
    "    customer_history = create_customer_history(data)\n",
    "    \n",
    "    \n",
    "    features = [\n",
    "        'prev_sleep', 'prev_steps', 'prev_heart_rate',\n",
    "        'sleep_roll_mean_3d', 'steps_roll_mean_3d',\n",
    "        'sleep_roll_std_3d', 'steps_roll_std_3d',\n",
    "        'sleep_change', 'steps_change',\n",
    "        'steps_per_hr', 'is_weekend', 'day_of_week'\n",
    "    ]\n",
    "    \n",
    "    \n",
    "    X = customer_history[features].dropna()\n",
    "    y = customer_history.loc[X.index, 'sleep_duration']\n",
    "    \n",
    "    \n",
    "    model = Pipeline([\n",
    "        ('scaler', StandardScaler()),\n",
    "        ('poly', PolynomialFeatures(degree=2, include_bias=False)),\n",
    "        ('ridge', Ridge(alpha=1.0))\n",
    "    ])\n",
    "    \n",
    "    model.fit(X, y)\n",
    "    return model, features"
   ]
  },
  {
   "cell_type": "code",
   "execution_count": 17,
   "metadata": {},
   "outputs": [
    {
     "name": "stdout",
     "output_type": "stream",
     "text": [
      "Model training completed!\n"
     ]
    }
   ],
   "source": [
    "model, features = train_sleep_prediction_model()\n",
    "print(\"Model training completed!\")"
   ]
  },
  {
   "cell_type": "markdown",
   "metadata": {},
   "source": [
    "## Interactive Prediction"
   ]
  },
  {
   "cell_type": "code",
   "execution_count": 18,
   "metadata": {},
   "outputs": [
    {
     "data": {
      "application/vnd.jupyter.widget-view+json": {
       "model_id": "2802cbe0b9a54fa7826cccb9bacbcaa1",
       "version_major": 2,
       "version_minor": 0
      },
      "text/plain": [
       "Text(value='CUST1', description='Customer ID:')"
      ]
     },
     "metadata": {},
     "output_type": "display_data"
    },
    {
     "data": {
      "application/vnd.jupyter.widget-view+json": {
       "model_id": "9adee74de98e4c27b000a6fb5bf18480",
       "version_major": 2,
       "version_minor": 0
      },
      "text/plain": [
       "IntText(value=5000, description='Steps:')"
      ]
     },
     "metadata": {},
     "output_type": "display_data"
    },
    {
     "data": {
      "application/vnd.jupyter.widget-view+json": {
       "model_id": "ce3b08a51e91447a92a4160880fe62fa",
       "version_major": 2,
       "version_minor": 0
      },
      "text/plain": [
       "IntText(value=70, description='Heart Rate:')"
      ]
     },
     "metadata": {},
     "output_type": "display_data"
    },
    {
     "data": {
      "application/vnd.jupyter.widget-view+json": {
       "model_id": "7492be215b1949b58ca6ff487d82b0dd",
       "version_major": 2,
       "version_minor": 0
      },
      "text/plain": [
       "IntText(value=420, description='Sleep (min):')"
      ]
     },
     "metadata": {},
     "output_type": "display_data"
    },
    {
     "data": {
      "application/vnd.jupyter.widget-view+json": {
       "model_id": "c100bc9dc9c24551ba3a85fed7df8127",
       "version_major": 2,
       "version_minor": 0
      },
      "text/plain": [
       "Button(description='Predict', style=ButtonStyle())"
      ]
     },
     "metadata": {},
     "output_type": "display_data"
    }
   ],
   "source": [
    "from IPython.display import display\n",
    "from ipywidgets import widgets\n",
    "\n",
    "customer_id = widgets.Text(value='CUST1', description='Customer ID:')\n",
    "steps = widgets.IntText(value=5000, description='Steps:')\n",
    "heart_rate = widgets.IntText(value=70, description='Heart Rate:')\n",
    "sleep_duration = widgets.IntText(value=420, description='Sleep (min):')\n",
    "\n",
    "def on_predict_click(b):\n",
    "    prediction_data = {\n",
    "        'customer_id': customer_id.value,\n",
    "        'date': pd.Timestamp.now().strftime('%Y-%m-%d'),\n",
    "        'sleep_duration': sleep_duration.value,\n",
    "        'steps': steps.value,\n",
    "        'resting_heart_rate': heart_rate.value\n",
    "    }\n",
    "    prediction = predict_next_day_sleep(prediction_data)\n",
    "    print(f\"Predicted sleep duration for tomorrow: {prediction} minutes\")\n",
    "\n",
    "predict_button = widgets.Button(description='Predict')\n",
    "predict_button.on_click(on_predict_click)\n",
    "#hi\n",
    "display(customer_id, steps, heart_rate, sleep_duration, predict_button)"
   ]
  }
 ],
 "metadata": {
  "kernelspec": {
   "display_name": "base",
   "language": "python",
   "name": "python3"
  },
  "language_info": {
   "codemirror_mode": {
    "name": "ipython",
    "version": 3
   },
   "file_extension": ".py",
   "mimetype": "text/x-python",
   "name": "python",
   "nbconvert_exporter": "python",
   "pygments_lexer": "ipython3",
   "version": "3.11.7"
  }
 },
 "nbformat": 4,
 "nbformat_minor": 2
}
